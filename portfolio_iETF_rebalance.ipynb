{
 "cells": [
  {
   "cell_type": "code",
   "execution_count": 11,
   "metadata": {},
   "outputs": [],
   "source": [
    "import pandas as pd\n",
    "import matplotlib.pyplot as plt\n",
    "%matplotlib inline\n",
    "import numpy as np\n",
    "import time\n",
    "import statsmodels.api as sm\n",
    "import sys\n",
    "from stocktrends import Renko\n",
    "import talib\n",
    "import yfinance as yf\n",
    "import copy\n",
    "from alpha_vantage import timeseries"
   ]
  },
  {
   "cell_type": "code",
   "execution_count": 12,
   "metadata": {},
   "outputs": [],
   "source": [
    "# !{sys.executable} -m pip install alpha_vantage"
   ]
  },
  {
   "cell_type": "markdown",
   "metadata": {},
   "source": [
    "### KPI for the strategy"
   ]
  },
  {
   "cell_type": "code",
   "execution_count": 13,
   "metadata": {},
   "outputs": [],
   "source": [
    "def CAGR(DF):\n",
    "    df = DF.copy()\n",
    "#     df['daily_ret'] = df['close'].pct_change()\n",
    "    df['cum_ret'] = (1 + df['mon_ret']).cumprod()\n",
    "#     print(df)\n",
    "    n = len(df) / 12\n",
    "    CAGR = (df['cum_ret'].tolist()[-1]) ** (1/n) - 1\n",
    "    return CAGR\n",
    "\n",
    "\n",
    "def Vola(DF):\n",
    "    df = DF.copy()\n",
    "#     df['daily_ret'] = df['close'].pct_change()\n",
    "    vola = df['mon_ret'].std()\n",
    "    annual_vola = vola * np.sqrt(12)\n",
    "#     week_vola = vola * np.sqrt(52)\n",
    "    month_vola = vola * np.sqrt(12)\n",
    "    return annual_vola\n",
    "\n",
    "\n",
    "def Sharpe(DF, rf):\n",
    "    df = DF.copy()\n",
    "    sr = ((CAGR(df) - rf) / Vola(df))\n",
    "    return sr\n",
    "\n",
    "\n",
    "def Sortino(DF, rf):\n",
    "    df = DF.copy()\n",
    "    df['mon_ret'] = df['close'].pct_change()\n",
    "    neg_vola = df[df['mon_ret'] < 0]['mon_ret'].std() * np.sqrt(12)\n",
    "    sortino = (CAGR(df) - rf) / neg_vola\n",
    "    return sortino\n",
    "\n",
    "\n",
    "def max_dd(DF):\n",
    "    df = DF.copy()\n",
    "#     df['mon_ret'] = df['close'].pct_change()\n",
    "    df['cum_ret'] = (1 + df['mon_ret']).cumprod()\n",
    "    df['cum_roll_max'] = df['cum_ret'].cummax()\n",
    "    df['drawdown'] = df['cum_roll_max'] - df['cum_ret']\n",
    "    df['drawdown_pct'] = df['drawdown'] / df['cum_roll_max']\n",
    "    max_dd = df['drawdown_pct'].max()\n",
    "    return max_dd\n",
    "\n",
    "\n",
    "def Calmar(DF):\n",
    "    df = DF.copy()\n",
    "    clmr = CAGR(df) / max_dd(df)\n",
    "    return clmr "
   ]
  },
  {
   "cell_type": "markdown",
   "metadata": {},
   "source": [
    "### Data fetching"
   ]
  },
  {
   "cell_type": "markdown",
   "metadata": {},
   "source": [
    "##### Stocks"
   ]
  },
  {
   "cell_type": "code",
   "execution_count": 14,
   "metadata": {},
   "outputs": [],
   "source": [
    "tickers = [\"MMM\", \"AXP\", \"T\", \"BA\", \"CAT\" ,\"CVX\", \"CSCO\", \"KO\", \"XOM\", \"GE\", \"GS\", \"HD\",\n",
    "           \"IBM\", \"INTC\", \"JNJ\", \"JPM\", \"MCD\", \"MRK\", \"MSFT\", \"NKE\", \"PFE\", \"PG\", \"TRV\",\n",
    "           \"UTX\", \"UNH\", \"VZ\" ,\"V\" ,\"WMT\" ,\"DIS\", 'BABA']\n",
    "start_date_stocks = '2000-01-01'\n",
    "# end_date = "
   ]
  },
  {
   "cell_type": "code",
   "execution_count": 15,
   "metadata": {},
   "outputs": [
    {
     "name": "stdout",
     "output_type": "stream",
     "text": [
      "[*********************100%***********************]  1 of 1 completed\n",
      "[*********************100%***********************]  1 of 1 completed\n",
      "[*********************100%***********************]  1 of 1 completed\n",
      "[*********************100%***********************]  1 of 1 completed\n",
      "[*********************100%***********************]  1 of 1 completed\n",
      "[*********************100%***********************]  1 of 1 completed\n",
      "[*********************100%***********************]  1 of 1 completed\n",
      "[*********************100%***********************]  1 of 1 completed\n",
      "[*********************100%***********************]  1 of 1 completed\n",
      "[*********************100%***********************]  1 of 1 completed\n",
      "[*********************100%***********************]  1 of 1 completed\n",
      "[*********************100%***********************]  1 of 1 completed\n",
      "[*********************100%***********************]  1 of 1 completed\n",
      "[*********************100%***********************]  1 of 1 completed\n",
      "[*********************100%***********************]  1 of 1 completed\n",
      "[*********************100%***********************]  1 of 1 completed\n",
      "[*********************100%***********************]  1 of 1 completed\n",
      "[*********************100%***********************]  1 of 1 completed\n",
      "[*********************100%***********************]  1 of 1 completed\n",
      "[*********************100%***********************]  1 of 1 completed\n",
      "[*********************100%***********************]  1 of 1 completed\n",
      "[*********************100%***********************]  1 of 1 completed\n",
      "[*********************100%***********************]  1 of 1 completed\n",
      "[*********************100%***********************]  1 of 1 completed\n",
      "[*********************100%***********************]  1 of 1 completed\n",
      "[*********************100%***********************]  1 of 1 completed\n",
      "[*********************100%***********************]  1 of 1 completed\n",
      "[*********************100%***********************]  1 of 1 completed\n",
      "[*********************100%***********************]  1 of 1 completed\n",
      "[*********************100%***********************]  1 of 1 completed\n"
     ]
    }
   ],
   "source": [
    "ohlc_mon = {} # to store stock data\n",
    "attempt = 0 # initializing passthrough variable\n",
    "drop = [] # initializing list to store stock whose close price was successfuly extracted\n",
    "\n",
    "while len(tickers) != 0 and attempt <= 5:\n",
    "    tickers = [j for j in tickers if j not in drop] # removing stocks which tiker has been extracted\n",
    "    for i in range(len(tickers)):\n",
    "        try:\n",
    "            ohlc_mon[tickers[i]] = yf.download(tickers[i], start=start_date_stocks, interval = '1mo')\n",
    "            ohlc_mon[tickers[i]].dropna(inplace=True)\n",
    "            ohlc_mon[tickers[i]].rename(columns={'Adj Close': 'close'}, inplace=True)\n",
    "            drop.append(tickers[i])\n",
    "        except:\n",
    "            print(tickers[i], 'failed to fetch data..retrying')\n",
    "            continue\n",
    "    attempt += 1\n",
    "    \n",
    "tickers = ohlc_mon.keys() #redefine tickers variable after removing any tickers with corrupted data"
   ]
  },
  {
   "cell_type": "markdown",
   "metadata": {},
   "source": [
    "#### strategy \"Portfolio Rebalancing\""
   ]
  },
  {
   "cell_type": "code",
   "execution_count": 16,
   "metadata": {},
   "outputs": [
    {
     "name": "stdout",
     "output_type": "stream",
     "text": [
      "calculating monthly return MMM\n",
      "calculating monthly return AXP\n",
      "calculating monthly return T\n",
      "calculating monthly return BA\n",
      "calculating monthly return CAT\n",
      "calculating monthly return CVX\n",
      "calculating monthly return CSCO\n",
      "calculating monthly return KO\n",
      "calculating monthly return XOM\n",
      "calculating monthly return GE\n",
      "calculating monthly return GS\n",
      "calculating monthly return HD\n",
      "calculating monthly return IBM\n",
      "calculating monthly return INTC\n",
      "calculating monthly return JNJ\n",
      "calculating monthly return JPM\n",
      "calculating monthly return MCD\n",
      "calculating monthly return MRK\n",
      "calculating monthly return MSFT\n",
      "calculating monthly return NKE\n",
      "calculating monthly return PFE\n",
      "calculating monthly return PG\n",
      "calculating monthly return TRV\n",
      "calculating monthly return UTX\n",
      "calculating monthly return UNH\n",
      "calculating monthly return VZ\n",
      "calculating monthly return V\n",
      "calculating monthly return WMT\n",
      "calculating monthly return DIS\n",
      "calculating monthly return BABA\n"
     ]
    }
   ],
   "source": [
    "ohlc_dict = copy.deepcopy(ohlc_mon)\n",
    "return_df = pd.DataFrame()\n",
    "for ticker in tickers:\n",
    "    print('calculating monthly return', ticker)\n",
    "    ohlc_dict[ticker]['mon_ret'] = ohlc_dict[ticker]['close'].pct_change()\n",
    "    return_df[ticker] = ohlc_dict[ticker]['mon_ret']\n",
    "# return_df"
   ]
  },
  {
   "cell_type": "code",
   "execution_count": 17,
   "metadata": {},
   "outputs": [],
   "source": [
    "DF = return_df\n",
    "m = 10\n",
    "x = 10\n",
    "portfolio = [\"MMM\", \"AXP\", \"T\", \"BA\", \"CAT\" ,\"CVX\", \"CSCO\", \"KO\", \"XOM\", \"GE\"]"
   ]
  },
  {
   "cell_type": "code",
   "execution_count": 26,
   "metadata": {},
   "outputs": [],
   "source": [
    "def pfio(DF, m, x):\n",
    "    \"\"\"Return cumulative portfolio returns\n",
    "    DF= dataframe\n",
    "    m = number of stocks in portfolio\n",
    "    x = number of underperforming stocks to be removed from portfolio monthly    \n",
    "    \"\"\"\n",
    "    df = DF.copy()\n",
    "    portfolio = []\n",
    "    monthly_ret = [0]\n",
    "    for i in range(1, len(df)):\n",
    "        if len(portfolio) > 0:\n",
    "            monthly_ret.append(df[portfolio].iloc[i,:].mean())\n",
    "            bad_stocks = df[portfolio].iloc[i,:].sort_values(ascending=True)[:x].index.values.tolist()\n",
    "            portfolio = [t for t in portfolio if t not in bad_stocks]\n",
    "        fill = m - len(portfolio)\n",
    "        new_picks = df[[t for t in tickers if t not in portfolio]].iloc[i,:].sort_values(ascending=False)[:fill].index.values.tolist()\n",
    "#         new_picks = df.iloc[i,:].sort_values(ascending=False)[:fill].index.values.tolist() # replace all stocks not just x\n",
    "        new_picks\n",
    "        portfolio = portfolio + new_picks\n",
    "#         print(portfolio)\n",
    "    monthly_ret_df = pd.DataFrame(np.array(monthly_ret), columns=['mon_ret'])\n",
    "    return monthly_ret_df"
   ]
  },
  {
   "cell_type": "code",
   "execution_count": 27,
   "metadata": {},
   "outputs": [
    {
     "data": {
      "text/html": [
       "<div>\n",
       "<style scoped>\n",
       "    .dataframe tbody tr th:only-of-type {\n",
       "        vertical-align: middle;\n",
       "    }\n",
       "\n",
       "    .dataframe tbody tr th {\n",
       "        vertical-align: top;\n",
       "    }\n",
       "\n",
       "    .dataframe thead th {\n",
       "        text-align: right;\n",
       "    }\n",
       "</style>\n",
       "<table border=\"1\" class=\"dataframe\">\n",
       "  <thead>\n",
       "    <tr style=\"text-align: right;\">\n",
       "      <th></th>\n",
       "      <th>mon_ret</th>\n",
       "    </tr>\n",
       "  </thead>\n",
       "  <tbody>\n",
       "    <tr>\n",
       "      <th>0</th>\n",
       "      <td>0.000000</td>\n",
       "    </tr>\n",
       "    <tr>\n",
       "      <th>1</th>\n",
       "      <td>0.151474</td>\n",
       "    </tr>\n",
       "    <tr>\n",
       "      <th>2</th>\n",
       "      <td>-0.028187</td>\n",
       "    </tr>\n",
       "    <tr>\n",
       "      <th>3</th>\n",
       "      <td>0.045007</td>\n",
       "    </tr>\n",
       "    <tr>\n",
       "      <th>4</th>\n",
       "      <td>0.009597</td>\n",
       "    </tr>\n",
       "    <tr>\n",
       "      <th>...</th>\n",
       "      <td>...</td>\n",
       "    </tr>\n",
       "    <tr>\n",
       "      <th>236</th>\n",
       "      <td>0.016388</td>\n",
       "    </tr>\n",
       "    <tr>\n",
       "      <th>237</th>\n",
       "      <td>0.059212</td>\n",
       "    </tr>\n",
       "    <tr>\n",
       "      <th>238</th>\n",
       "      <td>0.016193</td>\n",
       "    </tr>\n",
       "    <tr>\n",
       "      <th>239</th>\n",
       "      <td>-0.002629</td>\n",
       "    </tr>\n",
       "    <tr>\n",
       "      <th>240</th>\n",
       "      <td>0.011614</td>\n",
       "    </tr>\n",
       "  </tbody>\n",
       "</table>\n",
       "<p>241 rows × 1 columns</p>\n",
       "</div>"
      ],
      "text/plain": [
       "      mon_ret\n",
       "0    0.000000\n",
       "1    0.151474\n",
       "2   -0.028187\n",
       "3    0.045007\n",
       "4    0.009597\n",
       "..        ...\n",
       "236  0.016388\n",
       "237  0.059212\n",
       "238  0.016193\n",
       "239 -0.002629\n",
       "240  0.011614\n",
       "\n",
       "[241 rows x 1 columns]"
      ]
     },
     "execution_count": 27,
     "metadata": {},
     "output_type": "execute_result"
    }
   ],
   "source": [
    "pfio(DF, m, x)"
   ]
  },
  {
   "cell_type": "code",
   "execution_count": 28,
   "metadata": {
    "scrolled": true
   },
   "outputs": [
    {
     "name": "stdout",
     "output_type": "stream",
     "text": [
      "0.09317216309396259\n",
      "0.47057395061017626\n",
      "0.4787869398687301\n"
     ]
    }
   ],
   "source": [
    "print(CAGR(pfio(DF, m, x)))\n",
    "print(Sharpe(pfio(DF, m ,x), 0.02))\n",
    "print(max_dd(pfio(DF, m, x)))"
   ]
  },
  {
   "cell_type": "code",
   "execution_count": 20,
   "metadata": {},
   "outputs": [
    {
     "name": "stdout",
     "output_type": "stream",
     "text": [
      "[*********************100%***********************]  1 of 1 completed\n"
     ]
    },
    {
     "data": {
      "text/html": [
       "<div>\n",
       "<style scoped>\n",
       "    .dataframe tbody tr th:only-of-type {\n",
       "        vertical-align: middle;\n",
       "    }\n",
       "\n",
       "    .dataframe tbody tr th {\n",
       "        vertical-align: top;\n",
       "    }\n",
       "\n",
       "    .dataframe thead th {\n",
       "        text-align: right;\n",
       "    }\n",
       "</style>\n",
       "<table border=\"1\" class=\"dataframe\">\n",
       "  <thead>\n",
       "    <tr style=\"text-align: right;\">\n",
       "      <th></th>\n",
       "      <th>Open</th>\n",
       "      <th>High</th>\n",
       "      <th>Low</th>\n",
       "      <th>Close</th>\n",
       "      <th>close</th>\n",
       "      <th>Volume</th>\n",
       "      <th>mon_ret</th>\n",
       "    </tr>\n",
       "    <tr>\n",
       "      <th>Date</th>\n",
       "      <th></th>\n",
       "      <th></th>\n",
       "      <th></th>\n",
       "      <th></th>\n",
       "      <th></th>\n",
       "      <th></th>\n",
       "      <th></th>\n",
       "    </tr>\n",
       "  </thead>\n",
       "  <tbody>\n",
       "    <tr>\n",
       "      <th>2000-01-01</th>\n",
       "      <td>148.250000</td>\n",
       "      <td>148.250000</td>\n",
       "      <td>135.000000</td>\n",
       "      <td>139.562500</td>\n",
       "      <td>95.940262</td>\n",
       "      <td>1.567708e+08</td>\n",
       "      <td>NaN</td>\n",
       "    </tr>\n",
       "    <tr>\n",
       "      <th>2000-02-01</th>\n",
       "      <td>139.750000</td>\n",
       "      <td>144.562500</td>\n",
       "      <td>132.718750</td>\n",
       "      <td>137.437500</td>\n",
       "      <td>94.479424</td>\n",
       "      <td>1.869383e+08</td>\n",
       "      <td>-0.015227</td>\n",
       "    </tr>\n",
       "    <tr>\n",
       "      <th>2000-03-01</th>\n",
       "      <td>137.625000</td>\n",
       "      <td>155.750000</td>\n",
       "      <td>135.031250</td>\n",
       "      <td>150.375000</td>\n",
       "      <td>103.373169</td>\n",
       "      <td>2.475949e+08</td>\n",
       "      <td>0.094134</td>\n",
       "    </tr>\n",
       "    <tr>\n",
       "      <th>2000-04-01</th>\n",
       "      <td>150.125000</td>\n",
       "      <td>153.109375</td>\n",
       "      <td>133.500000</td>\n",
       "      <td>145.093750</td>\n",
       "      <td>99.996140</td>\n",
       "      <td>2.292462e+08</td>\n",
       "      <td>-0.032668</td>\n",
       "    </tr>\n",
       "    <tr>\n",
       "      <th>2000-05-01</th>\n",
       "      <td>146.562500</td>\n",
       "      <td>148.484375</td>\n",
       "      <td>136.500000</td>\n",
       "      <td>142.812500</td>\n",
       "      <td>98.423950</td>\n",
       "      <td>1.610240e+08</td>\n",
       "      <td>-0.015723</td>\n",
       "    </tr>\n",
       "    <tr>\n",
       "      <th>...</th>\n",
       "      <td>...</td>\n",
       "      <td>...</td>\n",
       "      <td>...</td>\n",
       "      <td>...</td>\n",
       "      <td>...</td>\n",
       "      <td>...</td>\n",
       "      <td>...</td>\n",
       "    </tr>\n",
       "    <tr>\n",
       "      <th>2019-10-01</th>\n",
       "      <td>297.739990</td>\n",
       "      <td>304.549988</td>\n",
       "      <td>284.820007</td>\n",
       "      <td>303.329987</td>\n",
       "      <td>301.845947</td>\n",
       "      <td>1.386748e+09</td>\n",
       "      <td>0.026825</td>\n",
       "    </tr>\n",
       "    <tr>\n",
       "      <th>2019-11-01</th>\n",
       "      <td>304.920013</td>\n",
       "      <td>315.480011</td>\n",
       "      <td>304.739990</td>\n",
       "      <td>314.309998</td>\n",
       "      <td>312.772247</td>\n",
       "      <td>1.037124e+09</td>\n",
       "      <td>0.036198</td>\n",
       "    </tr>\n",
       "    <tr>\n",
       "      <th>2019-12-01</th>\n",
       "      <td>314.589996</td>\n",
       "      <td>323.799988</td>\n",
       "      <td>307.130005</td>\n",
       "      <td>321.859985</td>\n",
       "      <td>320.285309</td>\n",
       "      <td>1.285176e+09</td>\n",
       "      <td>0.024021</td>\n",
       "    </tr>\n",
       "    <tr>\n",
       "      <th>2020-01-01</th>\n",
       "      <td>323.540009</td>\n",
       "      <td>332.950012</td>\n",
       "      <td>320.359985</td>\n",
       "      <td>326.890015</td>\n",
       "      <td>326.890015</td>\n",
       "      <td>1.148592e+09</td>\n",
       "      <td>0.020621</td>\n",
       "    </tr>\n",
       "    <tr>\n",
       "      <th>2020-01-29</th>\n",
       "      <td>328.380005</td>\n",
       "      <td>328.470001</td>\n",
       "      <td>326.399994</td>\n",
       "      <td>327.790009</td>\n",
       "      <td>327.790009</td>\n",
       "      <td>1.631258e+07</td>\n",
       "      <td>0.002753</td>\n",
       "    </tr>\n",
       "  </tbody>\n",
       "</table>\n",
       "<p>242 rows × 7 columns</p>\n",
       "</div>"
      ],
      "text/plain": [
       "                  Open        High         Low       Close       close  \\\n",
       "Date                                                                     \n",
       "2000-01-01  148.250000  148.250000  135.000000  139.562500   95.940262   \n",
       "2000-02-01  139.750000  144.562500  132.718750  137.437500   94.479424   \n",
       "2000-03-01  137.625000  155.750000  135.031250  150.375000  103.373169   \n",
       "2000-04-01  150.125000  153.109375  133.500000  145.093750   99.996140   \n",
       "2000-05-01  146.562500  148.484375  136.500000  142.812500   98.423950   \n",
       "...                ...         ...         ...         ...         ...   \n",
       "2019-10-01  297.739990  304.549988  284.820007  303.329987  301.845947   \n",
       "2019-11-01  304.920013  315.480011  304.739990  314.309998  312.772247   \n",
       "2019-12-01  314.589996  323.799988  307.130005  321.859985  320.285309   \n",
       "2020-01-01  323.540009  332.950012  320.359985  326.890015  326.890015   \n",
       "2020-01-29  328.380005  328.470001  326.399994  327.790009  327.790009   \n",
       "\n",
       "                  Volume   mon_ret  \n",
       "Date                                \n",
       "2000-01-01  1.567708e+08       NaN  \n",
       "2000-02-01  1.869383e+08 -0.015227  \n",
       "2000-03-01  2.475949e+08  0.094134  \n",
       "2000-04-01  2.292462e+08 -0.032668  \n",
       "2000-05-01  1.610240e+08 -0.015723  \n",
       "...                  ...       ...  \n",
       "2019-10-01  1.386748e+09  0.026825  \n",
       "2019-11-01  1.037124e+09  0.036198  \n",
       "2019-12-01  1.285176e+09  0.024021  \n",
       "2020-01-01  1.148592e+09  0.020621  \n",
       "2020-01-29  1.631258e+07  0.002753  \n",
       "\n",
       "[242 rows x 7 columns]"
      ]
     },
     "execution_count": 20,
     "metadata": {},
     "output_type": "execute_result"
    }
   ],
   "source": [
    "spy = yf.download('SPY', start=start_date_stocks, interval = '1mo')\n",
    "spy.dropna(inplace=True)\n",
    "spy['mon_ret'] = spy['Adj Close'].pct_change()\n",
    "spy.rename(columns={'Adj Close': 'close'}, inplace=True)\n",
    "spy"
   ]
  },
  {
   "cell_type": "code",
   "execution_count": 21,
   "metadata": {},
   "outputs": [
    {
     "name": "stdout",
     "output_type": "stream",
     "text": [
      "0.06281884631644852\n",
      "0.4307919453994977\n",
      "0.5078480473577084\n"
     ]
    }
   ],
   "source": [
    "print(CAGR(spy))\n",
    "print(Sharpe(spy, 0))\n",
    "print(max_dd(spy))"
   ]
  },
  {
   "cell_type": "markdown",
   "metadata": {},
   "source": [
    "#### visualization"
   ]
  },
  {
   "cell_type": "code",
   "execution_count": 22,
   "metadata": {},
   "outputs": [
    {
     "data": {
      "image/png": "[encoded data removed]",
      "text/plain": [
       "<Figure size 432x288 with 1 Axes>"
      ]
     },
     "metadata": {
      "needs_background": "light"
     },
     "output_type": "display_data"
    }
   ],
   "source": [
    "fig, ax = plt.subplots()\n",
    "plt.plot((1 + pfio(DF, m, x)).cumprod())\n",
    "plt.plot((1 + spy['mon_ret'][2:].reset_index(drop=True)).cumprod())\n",
    "plt.title('Index return vs Strategy return')\n",
    "plt.ylabel('cumulative return')\n",
    "plt.xlabel('months')\n",
    "ax.legend(['Strategy Return', 'Index Return']);"
   ]
  },
  {
   "cell_type": "code",
   "execution_count": null,
   "metadata": {},
   "outputs": [],
   "source": []
  },
  {
   "cell_type": "code",
   "execution_count": null,
   "metadata": {},
   "outputs": [],
   "source": []
  },
  {
   "cell_type": "code",
   "execution_count": null,
   "metadata": {},
   "outputs": [],
   "source": []
  },
  {
   "cell_type": "code",
   "execution_count": null,
   "metadata": {},
   "outputs": [],
   "source": []
  },
  {
   "cell_type": "code",
   "execution_count": null,
   "metadata": {},
   "outputs": [],
   "source": []
  },
  {
   "cell_type": "code",
   "execution_count": null,
   "metadata": {},
   "outputs": [],
   "source": []
  }
 ],
 "metadata": {
  "kernelspec": {
   "display_name": "Python 3",
   "language": "python",
   "name": "python3"
  },
  "language_info": {
   "codemirror_mode": {
    "name": "ipython",
    "version": 3
   },
   "file_extension": ".py",
   "mimetype": "text/x-python",
   "name": "python",
   "nbconvert_exporter": "python",
   "pygments_lexer": "ipython3",
   "version": "3.6.9"
  }
 },
 "nbformat": 4,
 "nbformat_minor": 2
}
